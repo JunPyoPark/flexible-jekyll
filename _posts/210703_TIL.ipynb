{
 "cells": [
  {
   "cell_type": "markdown",
   "metadata": {},
   "source": [
    "# 210703 Today I Learned"
   ]
  },
  {
   "cell_type": "markdown",
   "metadata": {},
   "source": [
    "## 개발 공부하는 날 (토요일)\r\n",
    "### HTML 기본 강의 정주행 완료\r\n",
    "### Javascript 입문 강의 시작"
   ]
  },
  {
   "cell_type": "markdown",
   "metadata": {},
   "source": [
    "## 가속화 모멘텀 Python으로 구현 완료"
   ]
  },
  {
   "cell_type": "markdown",
   "metadata": {},
   "source": [
    "[가속화 모멘텀 전략 Python Implementatoin](https://junpyopark.github.io/acc_momentum/)"
   ]
  },
  {
   "cell_type": "markdown",
   "metadata": {},
   "source": [
    "![](https://trello-attachments.s3.amazonaws.com/5b29ec749cfb0d90ada47d03/5fbb135a2a4a0409baa86e9c/93c0732fa306ce8f228c6f85b535360b/image.png)"
   ]
  }
 ],
 "metadata": {
  "interpreter": {
   "hash": "a874ce123973697a31e045c2ef415478c44c709b97254e39ee08388f91743410"
  },
  "kernelspec": {
   "display_name": "Python 3.9.4 64-bit ('cvxpy': conda)",
   "name": "python3"
  },
  "language_info": {
   "name": "python",
   "version": ""
  },
  "toc": {
   "base_numbering": 1,
   "nav_menu": {},
   "number_sections": true,
   "sideBar": true,
   "skip_h1_title": true,
   "title_cell": "Table of Contents",
   "title_sidebar": "Contents",
   "toc_cell": true,
   "toc_position": {},
   "toc_section_display": true,
   "toc_window_display": true
  }
 },
 "nbformat": 4,
 "nbformat_minor": 4
}