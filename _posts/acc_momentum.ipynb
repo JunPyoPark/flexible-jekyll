{
 "cells": [
  {
   "cell_type": "markdown",
   "metadata": {},
   "source": [
    "<h1 style=\"text-align:center;\">가속화 모멘텀 전략</h1>\n",
    "<p style=\"text-align:right;\"><strong>Coded by JunPyo Park</strong></p>"
   ]
  },
  {
   "cell_type": "markdown",
   "metadata": {},
   "source": [
    "**References**\n",
    "\n",
    "* [Momentum, Acceleration, and Reversal(2015)](https://www.researchgate.net/publication/294582144_Momentum_Acceleration_and_Reversal)\n",
    "* 대신증권 2021.05.17. Quant 리포트: [가속화 모멘텀 전략](http://money2.daishin.com/E5/Mail/eDM/Research/popup_pdf.aspx?gb=4&seq=46461)\n",
    "---"
   ]
  },
  {
   "cell_type": "markdown",
   "metadata": {
    "toc": true
   },
   "source": [
    "<h1>Table of Contents<span class=\"tocSkip\"></span></h1>\n",
    "<div class=\"toc\"><ul class=\"toc-item\"><li><span><a href=\"#Read-Data\" data-toc-modified-id=\"Read-Data-1\"><span class=\"toc-item-num\">1&nbsp;&nbsp;</span>Read Data</a></span></li><li><span><a href=\"#class-portfolio()\" data-toc-modified-id=\"class-portfolio()-2\"><span class=\"toc-item-num\">2&nbsp;&nbsp;</span><code>class portfolio()</code></a></span></li><li><span><a href=\"#Results\" data-toc-modified-id=\"Results-3\"><span class=\"toc-item-num\">3&nbsp;&nbsp;</span>Results</a></span><ul class=\"toc-item\"><li><span><a href=\"#PR1YR-vs-ACC-모멘텀-성과-추이-비교\" data-toc-modified-id=\"PR1YR-vs-ACC-모멘텀-성과-추이-비교-3.1\"><span class=\"toc-item-num\">3.1&nbsp;&nbsp;</span>PR1YR vs ACC 모멘텀 성과 추이 비교</a></span></li><li><span><a href=\"#변동성-대비-수익률\" data-toc-modified-id=\"변동성-대비-수익률-3.2\"><span class=\"toc-item-num\">3.2&nbsp;&nbsp;</span>변동성 대비 수익률</a></span></li></ul></li></ul></div>"
   ]
  },
  {
   "cell_type": "code",
   "execution_count": 1,
   "metadata": {},
   "outputs": [],
   "source": [
    "import pandas as pd\n",
    "import numpy as np\n",
    "import datetime\n",
    "from dateutil.relativedelta import relativedelta\n",
    "import matplotlib.pyplot as plt\n",
    "%matplotlib inline"
   ]
  },
  {
   "cell_type": "markdown",
   "metadata": {},
   "source": [
    "## Read Data"
   ]
  },
  {
   "cell_type": "code",
   "execution_count": 2,
   "metadata": {},
   "outputs": [],
   "source": [
    "# FinanceDataReader 통해 받은 데이터\n",
    "# stocks = fdr.StockListing('KOSPI') # 여기 리스트에 있는 종목의 종가만 사용\n",
    "df = pd.read_pickle('kospi.pkl')['2004':]"
   ]
  },
  {
   "cell_type": "code",
   "execution_count": 3,
   "metadata": {},
   "outputs": [
    {
     "data": {
      "text/html": [
       "<div>\n",
       "<style scoped>\n",
       "    .dataframe tbody tr th:only-of-type {\n",
       "        vertical-align: middle;\n",
       "    }\n",
       "\n",
       "    .dataframe tbody tr th {\n",
       "        vertical-align: top;\n",
       "    }\n",
       "\n",
       "    .dataframe thead th {\n",
       "        text-align: right;\n",
       "    }\n",
       "</style>\n",
       "<table border=\"1\" class=\"dataframe\">\n",
       "  <thead>\n",
       "    <tr style=\"text-align: right;\">\n",
       "      <th></th>\n",
       "      <th>AJ네트웍스</th>\n",
       "      <th>AK홀딩스</th>\n",
       "      <th>BGF</th>\n",
       "      <th>BGF리테일</th>\n",
       "      <th>BNK금융지주</th>\n",
       "      <th>BYC</th>\n",
       "      <th>CJ</th>\n",
       "      <th>CJ CGV</th>\n",
       "      <th>CJ대한통운</th>\n",
       "      <th>CJ씨푸드</th>\n",
       "      <th>...</th>\n",
       "      <th>효성티앤씨</th>\n",
       "      <th>효성화학</th>\n",
       "      <th>후성</th>\n",
       "      <th>휠라홀딩스</th>\n",
       "      <th>휴니드</th>\n",
       "      <th>휴비스</th>\n",
       "      <th>휴스틸</th>\n",
       "      <th>휴켐스</th>\n",
       "      <th>흥국화재</th>\n",
       "      <th>흥아해운</th>\n",
       "    </tr>\n",
       "    <tr>\n",
       "      <th>Date</th>\n",
       "      <th></th>\n",
       "      <th></th>\n",
       "      <th></th>\n",
       "      <th></th>\n",
       "      <th></th>\n",
       "      <th></th>\n",
       "      <th></th>\n",
       "      <th></th>\n",
       "      <th></th>\n",
       "      <th></th>\n",
       "      <th></th>\n",
       "      <th></th>\n",
       "      <th></th>\n",
       "      <th></th>\n",
       "      <th></th>\n",
       "      <th></th>\n",
       "      <th></th>\n",
       "      <th></th>\n",
       "      <th></th>\n",
       "      <th></th>\n",
       "      <th></th>\n",
       "    </tr>\n",
       "  </thead>\n",
       "  <tbody>\n",
       "    <tr>\n",
       "      <th>2004-01-02</th>\n",
       "      <td>NaN</td>\n",
       "      <td>8297.0</td>\n",
       "      <td>NaN</td>\n",
       "      <td>NaN</td>\n",
       "      <td>NaN</td>\n",
       "      <td>39600.0</td>\n",
       "      <td>31419.0</td>\n",
       "      <td>NaN</td>\n",
       "      <td>14400.0</td>\n",
       "      <td>475.0</td>\n",
       "      <td>...</td>\n",
       "      <td>NaN</td>\n",
       "      <td>NaN</td>\n",
       "      <td>NaN</td>\n",
       "      <td>NaN</td>\n",
       "      <td>4100.0</td>\n",
       "      <td>NaN</td>\n",
       "      <td>4625.0</td>\n",
       "      <td>1984.0</td>\n",
       "      <td>4723.0</td>\n",
       "      <td>963.0</td>\n",
       "    </tr>\n",
       "    <tr>\n",
       "      <th>2004-01-05</th>\n",
       "      <td>NaN</td>\n",
       "      <td>8109.0</td>\n",
       "      <td>NaN</td>\n",
       "      <td>NaN</td>\n",
       "      <td>NaN</td>\n",
       "      <td>39700.0</td>\n",
       "      <td>32122.0</td>\n",
       "      <td>NaN</td>\n",
       "      <td>14325.0</td>\n",
       "      <td>480.0</td>\n",
       "      <td>...</td>\n",
       "      <td>NaN</td>\n",
       "      <td>NaN</td>\n",
       "      <td>NaN</td>\n",
       "      <td>NaN</td>\n",
       "      <td>4150.0</td>\n",
       "      <td>NaN</td>\n",
       "      <td>4680.0</td>\n",
       "      <td>2036.0</td>\n",
       "      <td>4644.0</td>\n",
       "      <td>1012.0</td>\n",
       "    </tr>\n",
       "    <tr>\n",
       "      <th>2004-01-06</th>\n",
       "      <td>NaN</td>\n",
       "      <td>7858.0</td>\n",
       "      <td>NaN</td>\n",
       "      <td>NaN</td>\n",
       "      <td>NaN</td>\n",
       "      <td>39500.0</td>\n",
       "      <td>32272.0</td>\n",
       "      <td>NaN</td>\n",
       "      <td>14250.0</td>\n",
       "      <td>470.0</td>\n",
       "      <td>...</td>\n",
       "      <td>NaN</td>\n",
       "      <td>NaN</td>\n",
       "      <td>NaN</td>\n",
       "      <td>NaN</td>\n",
       "      <td>4050.0</td>\n",
       "      <td>NaN</td>\n",
       "      <td>4575.0</td>\n",
       "      <td>2129.0</td>\n",
       "      <td>4654.0</td>\n",
       "      <td>1162.0</td>\n",
       "    </tr>\n",
       "    <tr>\n",
       "      <th>2004-01-07</th>\n",
       "      <td>NaN</td>\n",
       "      <td>7670.0</td>\n",
       "      <td>NaN</td>\n",
       "      <td>NaN</td>\n",
       "      <td>NaN</td>\n",
       "      <td>39200.0</td>\n",
       "      <td>32674.0</td>\n",
       "      <td>NaN</td>\n",
       "      <td>15075.0</td>\n",
       "      <td>480.0</td>\n",
       "      <td>...</td>\n",
       "      <td>NaN</td>\n",
       "      <td>NaN</td>\n",
       "      <td>NaN</td>\n",
       "      <td>NaN</td>\n",
       "      <td>4000.0</td>\n",
       "      <td>NaN</td>\n",
       "      <td>4655.0</td>\n",
       "      <td>2114.0</td>\n",
       "      <td>4605.0</td>\n",
       "      <td>1333.0</td>\n",
       "    </tr>\n",
       "    <tr>\n",
       "      <th>2004-01-08</th>\n",
       "      <td>NaN</td>\n",
       "      <td>7576.0</td>\n",
       "      <td>NaN</td>\n",
       "      <td>NaN</td>\n",
       "      <td>NaN</td>\n",
       "      <td>39400.0</td>\n",
       "      <td>32674.0</td>\n",
       "      <td>NaN</td>\n",
       "      <td>15000.0</td>\n",
       "      <td>510.0</td>\n",
       "      <td>...</td>\n",
       "      <td>NaN</td>\n",
       "      <td>NaN</td>\n",
       "      <td>NaN</td>\n",
       "      <td>NaN</td>\n",
       "      <td>4050.0</td>\n",
       "      <td>NaN</td>\n",
       "      <td>4560.0</td>\n",
       "      <td>2033.0</td>\n",
       "      <td>4428.0</td>\n",
       "      <td>1532.0</td>\n",
       "    </tr>\n",
       "  </tbody>\n",
       "</table>\n",
       "<p>5 rows × 770 columns</p>\n",
       "</div>"
      ],
      "text/plain": [
       "            AJ네트웍스   AK홀딩스  BGF  BGF리테일  BNK금융지주      BYC       CJ  CJ CGV  \\\n",
       "Date                                                                         \n",
       "2004-01-02     NaN  8297.0  NaN     NaN      NaN  39600.0  31419.0     NaN   \n",
       "2004-01-05     NaN  8109.0  NaN     NaN      NaN  39700.0  32122.0     NaN   \n",
       "2004-01-06     NaN  7858.0  NaN     NaN      NaN  39500.0  32272.0     NaN   \n",
       "2004-01-07     NaN  7670.0  NaN     NaN      NaN  39200.0  32674.0     NaN   \n",
       "2004-01-08     NaN  7576.0  NaN     NaN      NaN  39400.0  32674.0     NaN   \n",
       "\n",
       "             CJ대한통운  CJ씨푸드  ...  효성티앤씨  효성화학  후성  휠라홀딩스     휴니드  휴비스     휴스틸  \\\n",
       "Date                        ...                                                \n",
       "2004-01-02  14400.0  475.0  ...    NaN   NaN NaN    NaN  4100.0  NaN  4625.0   \n",
       "2004-01-05  14325.0  480.0  ...    NaN   NaN NaN    NaN  4150.0  NaN  4680.0   \n",
       "2004-01-06  14250.0  470.0  ...    NaN   NaN NaN    NaN  4050.0  NaN  4575.0   \n",
       "2004-01-07  15075.0  480.0  ...    NaN   NaN NaN    NaN  4000.0  NaN  4655.0   \n",
       "2004-01-08  15000.0  510.0  ...    NaN   NaN NaN    NaN  4050.0  NaN  4560.0   \n",
       "\n",
       "               휴켐스    흥국화재    흥아해운  \n",
       "Date                                \n",
       "2004-01-02  1984.0  4723.0   963.0  \n",
       "2004-01-05  2036.0  4644.0  1012.0  \n",
       "2004-01-06  2129.0  4654.0  1162.0  \n",
       "2004-01-07  2114.0  4605.0  1333.0  \n",
       "2004-01-08  2033.0  4428.0  1532.0  \n",
       "\n",
       "[5 rows x 770 columns]"
      ]
     },
     "execution_count": 3,
     "metadata": {},
     "output_type": "execute_result"
    }
   ],
   "source": [
    "df.head()"
   ]
  },
  {
   "cell_type": "markdown",
   "metadata": {},
   "source": [
    "* 정확한 분석을 위해서는 현재 상폐된 종목, 해당 시점 KOSPI 대형주 유니버스(대신증권 리포트 기준) 등을 고려해야 함"
   ]
  },
  {
   "cell_type": "markdown",
   "metadata": {},
   "source": [
    "## `class portfolio()`"
   ]
  },
  {
   "cell_type": "code",
   "execution_count": 4,
   "metadata": {},
   "outputs": [],
   "source": [
    "class portfolio():\n",
    "    \n",
    "    def __init__(self,start_year_month, rebalancing_day, holding_period, strategy_type):\n",
    "        self.start_dt = df[start_year_month].index[rebalancing_day-1]\n",
    "        self.current_dt = self.start_dt\n",
    "        self.holding_period = relativedelta(months=holding_period) # months\n",
    "        self.strategy_type = strategy_type\n",
    "        self.stock_list = {}\n",
    "        self.returns = {}\n",
    "        self.current_wealth = 1\n",
    "        self.wealth = {}\n",
    "        self.end_dt = datetime.datetime.today()\n",
    "    \n",
    "    def filter_stocks(self):\n",
    "        # 편의상 해당 시점에 가격이 존재하는 종목만 filtering\n",
    "        st = self.current_dt - relativedelta(months=12)\n",
    "        et = self.current_dt + self.holding_period\n",
    "        available_stocks = df[st:et].dropna(axis=1).columns\n",
    "        return df[available_stocks][st:self.current_dt]\n",
    "    \n",
    "    def calc_pct_return(self, price_table, st, et):\n",
    "        start_price = price_table[st:et].iloc[0]\n",
    "        end_price = price_table[st:et].iloc[-1]\n",
    "        pct_return = (end_price-start_price) / start_price # pct return\n",
    "        return pct_return\n",
    "    \n",
    "    def momentum_scoring(self,price_table):\n",
    "        # 12_1 Momentum\n",
    "        st = self.current_dt - relativedelta(months=12)\n",
    "        et = self.current_dt - relativedelta(months=1)\n",
    "        scored_df = self.calc_pct_return(price_table, st, et)\n",
    "        return scored_df.sort_values(ascending=True) # 값이 큰게 5분위로 가도록\n",
    "    \n",
    "    def acc_momentum_scoring(self,price_table):\n",
    "        # Acceleration Momentum\n",
    "        weight_scheme = [1] * 6 + [-1] * 6 # use simple weight scheme\n",
    "        scored_array = np.zeros(len(price_table.columns))\n",
    "        \n",
    "        et = self.current_dt # end dt\n",
    "        for i in range(1,13):\n",
    "            st = self.current_dt - relativedelta(months=i) # start dt\n",
    "            r_i = self.calc_pct_return(price_table, st, et)\n",
    "            r_i = (1+r_i) ** (1/i) - 1 # monthly average\n",
    "            scored_array += weight_scheme[i-1] * r_i\n",
    "        scored_df = pd.Series(scored_array, index=price_table.columns)   \n",
    "\n",
    "        return scored_df.sort_values(ascending=False) # 값이 작은게 5분위로 가도록\n",
    "    \n",
    "    def quintile(self,df): # 5분위 나누기\n",
    "        Q = {}\n",
    "        step_size = len(df) / 5\n",
    "        for i in range(5):\n",
    "            Q[i+1] = df.iloc[int(i*len(df)/5):int((i+1)*len(df)/5)]\n",
    "        return Q\n",
    "    \n",
    "    def calc_port_return(self,buy_stocks,sell_stocks):\n",
    "        \n",
    "        st = self.current_dt\n",
    "        et = self.current_dt + self.holding_period\n",
    "        \n",
    "        # buy reutrn\n",
    "        buy_return = self.calc_pct_return(df[buy_stocks], st, et)\n",
    "        \n",
    "        # sell return\n",
    "        sell_return = self.calc_pct_return(df[sell_stocks], st, et)\n",
    "        \n",
    "        return (buy_return.mean() - sell_return.mean())\n",
    "    \n",
    "    def construct_portfolio(self):\n",
    "        \n",
    "        while((self.current_dt + self.holding_period) < self.end_dt):\n",
    "            price_table = self.filter_stocks()\n",
    "            if self.strategy_type == 'simple':\n",
    "                scored_df = self.momentum_scoring(price_table)\n",
    "            elif self.strategy_type == 'acc':\n",
    "                scored_df = self.acc_momentum_scoring(price_table)\n",
    "                \n",
    "            Q = self.quintile(scored_df) # Q[1] ~ Q[5]\n",
    "            buy_stocks = list(Q[5].index)+list(Q[4].index)  # 4,5 분위 매수\n",
    "            sell_stocks = list(Q[2].index)+list(Q[1].index) # 1,2 분위 매도\n",
    "            self.stock_list[self.current_dt] = {'buy':buy_stocks,\n",
    "                                               'sell':sell_stocks}\n",
    "            \n",
    "            port_return = self.calc_port_return(buy_stocks,sell_stocks)\n",
    "            \n",
    "            self.returns[self.current_dt] = port_return\n",
    "            self.current_wealth = self.current_wealth * (1+port_return)\n",
    "            self.wealth[self.current_dt] = self.current_wealth\n",
    "            # print(self.current_dt, len(buy_stocks), len(sell_stocks))\n",
    "            self.current_dt += self.holding_period\n",
    "        \n",
    "        return pd.Series(self.wealth)"
   ]
  },
  {
   "cell_type": "code",
   "execution_count": 5,
   "metadata": {},
   "outputs": [],
   "source": [
    "# 가속화 모멘텀 전략\n",
    "acc_port = portfolio(start_year_month = '2005-01',\n",
    "                 rebalancing_day = 0, # 0 월의 마지막 거래일 리밸런싱\n",
    "                 holding_period = 1,\n",
    "                 strategy_type = 'acc')\n",
    "\n",
    "acc_wealth = acc_port.construct_portfolio()"
   ]
  },
  {
   "cell_type": "code",
   "execution_count": 6,
   "metadata": {},
   "outputs": [
    {
     "data": {
      "image/png": "[encoded data removed]",
      "text/plain": [
       "<Figure size 432x288 with 1 Axes>"
      ]
     },
     "metadata": {
      "needs_background": "light"
     },
     "output_type": "display_data"
    }
   ],
   "source": [
    "acc_wealth.plot();"
   ]
  },
  {
   "cell_type": "code",
   "execution_count": 7,
   "metadata": {},
   "outputs": [],
   "source": [
    "# 단순 모멘텀 전략(PR1YR)\n",
    "simple_momentum_port = portfolio(start_year_month = '2005-01',\n",
    "                 rebalancing_day = 0, # 0 월의 마지막 거래일 리밸런싱\n",
    "                 holding_period = 1,\n",
    "                 strategy_type = 'simple')\n",
    "simple_wealth = simple_momentum_port.construct_portfolio()"
   ]
  },
  {
   "cell_type": "code",
   "execution_count": 8,
   "metadata": {},
   "outputs": [
    {
     "data": {
      "image/png": "[encoded data removed]",
      "text/plain": [
       "<Figure size 432x288 with 1 Axes>"
      ]
     },
     "metadata": {
      "needs_background": "light"
     },
     "output_type": "display_data"
    }
   ],
   "source": [
    "simple_wealth.plot();"
   ]
  },
  {
   "cell_type": "markdown",
   "metadata": {},
   "source": [
    "## Results"
   ]
  },
  {
   "cell_type": "markdown",
   "metadata": {},
   "source": [
    "### PR1YR vs ACC 모멘텀 성과 추이 비교"
   ]
  },
  {
   "cell_type": "code",
   "execution_count": 9,
   "metadata": {},
   "outputs": [
    {
     "data": {
      "image/png": "[encoded data removed]",
      "text/plain": [
       "<Figure size 864x504 with 1 Axes>"
      ]
     },
     "metadata": {
      "needs_background": "light"
     },
     "output_type": "display_data"
    }
   ],
   "source": [
    "plt.figure(figsize=(12,7))\n",
    "acc_wealth.plot(label='Accelerated Momentum');\n",
    "simple_wealth.plot(label='PR1YR Momentum');\n",
    "plt.legend()\n",
    "plt.show()"
   ]
  },
  {
   "cell_type": "markdown",
   "metadata": {},
   "source": [
    "![](https://trello-attachments.s3.amazonaws.com/5b29ec749cfb0d90ada47d03/5fbb135a2a4a0409baa86e9c/93c0732fa306ce8f228c6f85b535360b/image.png)"
   ]
  },
  {
   "cell_type": "markdown",
   "metadata": {},
   "source": [
    "* 리포트에서는 KOSPI 대형주 유니버스를 사용해서 결과값이 다르게 나옴 (<del>아니면 코드를 잘못 만들었거나...</del>)"
   ]
  },
  {
   "cell_type": "markdown",
   "metadata": {},
   "source": [
    "### 변동성 대비 수익률"
   ]
  },
  {
   "cell_type": "markdown",
   "metadata": {},
   "source": [
    "![](https://trello-attachments.s3.amazonaws.com/5b29ec749cfb0d90ada47d03/5fbb135a2a4a0409baa86e9c/f327d20c8f1a7ba5462b551847037933/image.png)"
   ]
  },
  {
   "cell_type": "code",
   "execution_count": 10,
   "metadata": {},
   "outputs": [],
   "source": [
    "acc_logret = np.log(acc_wealth / acc_wealth.shift(1)).dropna()"
   ]
  },
  {
   "cell_type": "code",
   "execution_count": 11,
   "metadata": {},
   "outputs": [],
   "source": [
    "simple_logret = np.log(simple_wealth / simple_wealth.shift(1)).dropna()"
   ]
  },
  {
   "cell_type": "code",
   "execution_count": 12,
   "metadata": {},
   "outputs": [
    {
     "data": {
      "text/plain": [
       "0.523569568275349"
      ]
     },
     "execution_count": 12,
     "metadata": {},
     "output_type": "execute_result"
    }
   ],
   "source": [
    "# 가속화 모멘텀 0.523\n",
    "acc_logret.mean() / acc_logret.std() * np.sqrt(12) # annualize"
   ]
  },
  {
   "cell_type": "code",
   "execution_count": 13,
   "metadata": {},
   "outputs": [
    {
     "data": {
      "text/plain": [
       "0.21721580159360945"
      ]
     },
     "execution_count": 13,
     "metadata": {},
     "output_type": "execute_result"
    }
   ],
   "source": [
    "# PR1YR 0.217\n",
    "simple_logret.mean() / simple_logret.std() * np.sqrt(12)"
   ]
  }
 ],
 "metadata": {
  "kernelspec": {
   "display_name": "Python 3",
   "language": "python",
   "name": "python3"
  },
  "language_info": {
   "codemirror_mode": {
    "name": "ipython",
    "version": 3
   },
   "file_extension": ".py",
   "mimetype": "text/x-python",
   "name": "python",
   "nbconvert_exporter": "python",
   "pygments_lexer": "ipython3",
   "version": "3.8.3"
  },
  "toc": {
   "base_numbering": 1,
   "nav_menu": {},
   "number_sections": true,
   "sideBar": true,
   "skip_h1_title": true,
   "title_cell": "Table of Contents",
   "title_sidebar": "Contents",
   "toc_cell": true,
   "toc_position": {},
   "toc_section_display": true,
   "toc_window_display": true
  }
 },
 "nbformat": 4,
 "nbformat_minor": 4
}
