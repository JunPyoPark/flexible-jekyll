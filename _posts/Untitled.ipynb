{
 "cells": [
  {
   "cell_type": "markdown",
   "metadata": {},
   "source": [
    "# 210623 TIL(Today I Learned)"
   ]
  },
  {
   "cell_type": "markdown",
   "metadata": {
    "toc": true
   },
   "source": [
    "<h1>Table of Contents<span class=\"tocSkip\"></span></h1>\n",
    "<div class=\"toc\"><ul class=\"toc-item\"><li><span><a href=\"#Stochastic-Programming\" data-toc-modified-id=\"Stochastic-Programming-1\"><span class=\"toc-item-num\">1&nbsp;&nbsp;</span>Stochastic Programming</a></span></li><li><span><a href=\"#수리-통계학\" data-toc-modified-id=\"수리-통계학-2\"><span class=\"toc-item-num\">2&nbsp;&nbsp;</span>수리 통계학</a></span></li><li><span><a href=\"#GAN-관련-미팅\" data-toc-modified-id=\"GAN-관련-미팅-3\"><span class=\"toc-item-num\">3&nbsp;&nbsp;</span>GAN 관련 미팅</a></span></li><li><span><a href=\"#방학-때-공부할-것들-정리\" data-toc-modified-id=\"방학-때-공부할-것들-정리-4\"><span class=\"toc-item-num\">4&nbsp;&nbsp;</span>방학 때 공부할 것들 정리</a></span></li></ul></div>"
   ]
  },
  {
   "cell_type": "markdown",
   "metadata": {},
   "source": [
    "## Stochastic Programming"
   ]
  },
  {
   "cell_type": "markdown",
   "metadata": {},
   "source": [
    "* 슬라이드 내용 공부\n",
    "* 과제 채점 (cvxpy application)"
   ]
  },
  {
   "cell_type": "markdown",
   "metadata": {},
   "source": [
    "## 수리 통계학"
   ]
  },
  {
   "cell_type": "markdown",
   "metadata": {},
   "source": [
    "* 공부 시작\n",
    "* 베이즈 정리 까지 공부"
   ]
  },
  {
   "cell_type": "markdown",
   "metadata": {},
   "source": [
    "## GAN 관련 미팅"
   ]
  },
  {
   "cell_type": "markdown",
   "metadata": {},
   "source": [
    "방학 때 할 프로젝트 개괄 및 Ideation 진행"
   ]
  },
  {
   "cell_type": "markdown",
   "metadata": {},
   "source": [
    "## 방학 때 공부할 것들 정리"
   ]
  },
  {
   "cell_type": "markdown",
   "metadata": {},
   "source": [
    "* Deep Learning: \n",
    "* Time Series\n",
    "* CFA\n",
    "* 수리통계"
   ]
  },
  {
   "cell_type": "code",
   "execution_count": null,
   "metadata": {},
   "outputs": [],
   "source": []
  }
 ],
 "metadata": {
  "kernelspec": {
   "display_name": "Python 3",
   "language": "python",
   "name": "python3"
  },
  "language_info": {
   "codemirror_mode": {
    "name": "ipython",
    "version": 3
   },
   "file_extension": ".py",
   "mimetype": "text/x-python",
   "name": "python",
   "nbconvert_exporter": "python",
   "pygments_lexer": "ipython3",
   "version": "3.8.3"
  },
  "toc": {
   "base_numbering": 1,
   "nav_menu": {},
   "number_sections": true,
   "sideBar": true,
   "skip_h1_title": true,
   "title_cell": "Table of Contents",
   "title_sidebar": "Contents",
   "toc_cell": true,
   "toc_position": {},
   "toc_section_display": true,
   "toc_window_display": true
  }
 },
 "nbformat": 4,
 "nbformat_minor": 4
}
